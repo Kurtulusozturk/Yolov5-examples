{
 "cells": [
  {
   "cell_type": "code",
   "execution_count": 29,
   "id": "32e24edb",
   "metadata": {
    "scrolled": true
   },
   "outputs": [
    {
     "name": "stderr",
     "output_type": "stream",
     "text": [
      "Using cache found in C:\\Users\\Kurtulus-pc/.cache\\torch\\hub\\ultralytics_yolov5_master\n",
      "YOLOv5  2023-2-6 Python-3.10.6 torch-1.13.1+cpu CPU\n",
      "\n",
      "Fusing layers... \n",
      "YOLOv5s summary: 213 layers, 7225885 parameters, 0 gradients\n",
      "Adding AutoShape... \n",
      "image 1/1: 275x183 1 clock\n",
      "Speed: 20.6ms pre-process, 221.2ms inference, 2.0ms NMS per image at shape (1, 3, 640, 448)\n"
     ]
    }
   ],
   "source": [
    "import torch\n",
    "\n",
    "# Model\n",
    "model = torch.hub.load(\"ultralytics/yolov5\", \"yolov5s\")  # or yolov5n - yolov5x6, custom\n",
    "\n",
    "# Images\n",
    "img = \"indir.jpg\"  # or file, Path, PIL, OpenCV, numpy, list\n",
    "\n",
    "# Inference\n",
    "results = model(img)\n",
    "\n",
    "# Results\n",
    "results.print()\n",
    "label=results.pandas().xyxy[0].name"
   ]
  },
  {
   "cell_type": "code",
   "execution_count": 30,
   "id": "0bd4ddf9",
   "metadata": {},
   "outputs": [
    {
     "name": "stdout",
     "output_type": "stream",
     "text": [
      " clock\n"
     ]
    }
   ],
   "source": [
    "def convertTuple(tup):\n",
    "        # initialize an empty string\n",
    "    str = ' '\n",
    "    for item in tup:\n",
    "        str = str + item\n",
    "    return str\n",
    "str = convertTuple(label[0])\n",
    "print(str)\n"
   ]
  },
  {
   "cell_type": "code",
   "execution_count": 31,
   "id": "91673135",
   "metadata": {},
   "outputs": [
    {
     "name": "stdout",
     "output_type": "stream",
     "text": [
      "This is a:  clock\n"
     ]
    }
   ],
   "source": [
    "print(\"This is a:\",str)\n",
    "    \n",
    "import cv2\n",
    "\n",
    "test_img = cv2.imread(img)\n",
    "font = cv2.FONT_HERSHEY_SIMPLEX\n",
    "color = (255,255,0)\n",
    "cv2.putText(test_img, str,(20,40),font,1.0,color,3)\n",
    "\n",
    "cv2.imshow(\"Prediction\",test_img)\n",
    "cv2.waitKey(0)\n",
    "cv2.destroyAllWindows()"
   ]
  },
  {
   "cell_type": "code",
   "execution_count": null,
   "id": "bbc617f6",
   "metadata": {},
   "outputs": [],
   "source": []
  }
 ],
 "metadata": {
  "kernelspec": {
   "display_name": "Python 3 (ipykernel)",
   "language": "python",
   "name": "python3"
  },
  "language_info": {
   "codemirror_mode": {
    "name": "ipython",
    "version": 3
   },
   "file_extension": ".py",
   "mimetype": "text/x-python",
   "name": "python",
   "nbconvert_exporter": "python",
   "pygments_lexer": "ipython3",
   "version": "3.10.6"
  }
 },
 "nbformat": 4,
 "nbformat_minor": 5
}
