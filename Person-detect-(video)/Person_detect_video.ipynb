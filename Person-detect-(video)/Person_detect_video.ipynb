{
 "cells": [
  {
   "cell_type": "code",
   "execution_count": 22,
   "id": "3aca8c17",
   "metadata": {
    "scrolled": true
   },
   "outputs": [
    {
     "name": "stderr",
     "output_type": "stream",
     "text": [
      "Using cache found in C:\\Users\\Kurtulus-pc/.cache\\torch\\hub\\ultralytics_yolov5_master\n",
      "YOLOv5  2023-2-6 Python-3.10.6 torch-1.13.1+cpu CPU\n",
      "\n",
      "Fusing layers... \n",
      "YOLOv5s summary: 213 layers, 7225885 parameters, 0 gradients\n",
      "Adding AutoShape... \n"
     ]
    }
   ],
   "source": [
    "import torch\n",
    "import cv2\n",
    "import numpy as np \n",
    "# Model\n",
    "model = torch.hub.load(\"ultralytics/yolov5\", \"yolov5s\")  # or yolov5n - yolov5x6, custom"
   ]
  },
  {
   "cell_type": "code",
   "execution_count": 23,
   "id": "58adbd70",
   "metadata": {},
   "outputs": [
    {
     "name": "stdout",
     "output_type": "stream",
     "text": [
      "person\n"
     ]
    }
   ],
   "source": [
    "#\"yolov5\\data\\coco.yaml\" example zero index is a person\n",
    "class_name = model.names[0] ='person'\n",
    "print(class_name)\n",
    "\n",
    "size=416\n",
    "\n",
    "count=0\n",
    "counter=0\n",
    "\n",
    "\n",
    "color=(0,0,255)\n",
    "\n",
    "cy1=250\n",
    "offset=6"
   ]
  },
  {
   "cell_type": "code",
   "execution_count": 41,
   "id": "463980f9",
   "metadata": {},
   "outputs": [],
   "source": [
    "cap = cv2.VideoCapture(0)\n",
    "\n",
    "while True:\n",
    "    \n",
    "    ret,img=cap.read()\n",
    "    \n",
    "    # Inference\n",
    "    results = model(img)\n",
    "    a = results.pandas().xyxy[0]\n",
    "    \n",
    "    #convert table to rows\n",
    "    for index, row in results.pandas().xyxy[0].iterrows():\n",
    "        x1=int(row['xmin'])\n",
    "        y1=int(row['ymin'])\n",
    "        x2=int(row['xmax'])\n",
    "        y2=int(row['ymax'])\n",
    "        \n",
    "        #Select only people class 0 == people\n",
    "        d=(row['class'])\n",
    "        if d==0:\n",
    "            #drawing rectangle\n",
    "            cv2.rectangle(img,(x1,y1),(x2,y2),(0,0,255),2)\n",
    "            \n",
    "            #found center\n",
    "            rectx1, recty1 = ((x1+x2)/2,(y1+y2)/2)\n",
    "            rectcenter=int(rectx1),int(recty1)\n",
    "            \n",
    "            #x center\n",
    "            cx=rectcenter[0]\n",
    "            \n",
    "            #y center\n",
    "            cy=rectcenter[1]\n",
    "            \n",
    "            #center circle\n",
    "            cv2.circle(img,(cx,cy),3,(0,255,0),-1)\n",
    "            \n",
    "            #class text\n",
    "            cv2.putText(img,str(class_name),(x1,y1),cv2.FONT_HERSHEY_PLAIN,2,(255,255,255),2)\n",
    "            \n",
    "    cv2.imshow(\"IMG\",img)\n",
    "    if cv2.waitKey(1) & 0xFF==ord(\"q\") | ord(\"Q\"):\n",
    "        break\n",
    "cap.release()\n",
    "cv2.destroyAllWindows()"
   ]
  },
  {
   "cell_type": "code",
   "execution_count": null,
   "id": "996f7c43",
   "metadata": {},
   "outputs": [],
   "source": []
  }
 ],
 "metadata": {
  "kernelspec": {
   "display_name": "Python 3 (ipykernel)",
   "language": "python",
   "name": "python3"
  },
  "language_info": {
   "codemirror_mode": {
    "name": "ipython",
    "version": 3
   },
   "file_extension": ".py",
   "mimetype": "text/x-python",
   "name": "python",
   "nbconvert_exporter": "python",
   "pygments_lexer": "ipython3",
   "version": "3.10.6"
  }
 },
 "nbformat": 4,
 "nbformat_minor": 5
}
